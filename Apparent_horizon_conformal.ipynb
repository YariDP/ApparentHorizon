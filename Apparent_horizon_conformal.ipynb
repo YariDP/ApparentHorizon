{
 "cells": [
  {
   "cell_type": "code",
   "execution_count": 1,
   "id": "bba01601-4cfd-4863-a558-e5412cf32f52",
   "metadata": {},
   "outputs": [],
   "source": [
    "import sympy as sp\n",
    "import numpy as np\n",
    "from sympy import *\n",
    "init_printing()"
   ]
  },
  {
   "cell_type": "markdown",
   "id": "06332a0f-daf2-4e06-a373-cdda35e80a93",
   "metadata": {},
   "source": [
    "# Initializing"
   ]
  },
  {
   "cell_type": "code",
   "execution_count": 6,
   "id": "f9c8c34e-c7bf-4a55-93f3-7259d2834300",
   "metadata": {},
   "outputs": [],
   "source": [
    "# Coordinates\n",
    "r, theta, phi = symbols('r, theta, phi')\n",
    "coords = [r, theta, phi]\n",
    "\n",
    "\n",
    "# Horizon function\n",
    "#h = Function('h')(theta, phi)\n",
    "h = Function('h')(theta)\n",
    "\n",
    "\n",
    "# Additional symbols\n",
    "N = symbols('N')\n",
    "M = symbols('M')\n",
    "R = symbols('R')\n",
    "\n",
    "\n",
    "# ADM 3+1 components\n",
    "alpha = Function('alpha')(r, theta, phi)   # lapse function\n",
    "alpha = (1-M/(2*r)) / (1+M/(2*r))\n",
    "#alpha = 1\n",
    "\n",
    "beta = Array([0,0,0])                       # Shift vector\n",
    "\n",
    "psi = Function('psi')(r, theta, phi)       # Conformal factor\n",
    "psi = 1 + M/(2*r)\n",
    "#psi = 1\n",
    "psi4 = psi**4\n",
    "\n",
    "\n",
    "\n",
    "\n",
    "eta = diag(1, r**2, (r*sin(theta))**2)\n",
    "eta_inv = eta**(-1)"
   ]
  },
  {
   "cell_type": "markdown",
   "id": "8190f4b7-128f-4dc2-a103-3d1f338530a3",
   "metadata": {},
   "source": [
    "# Normal vectors"
   ]
  },
  {
   "cell_type": "markdown",
   "id": "95ecfea0-63f2-45d2-af5c-6109411fbd45",
   "metadata": {},
   "source": [
    "Normal vectors defined by $$n^{\\mu} = \\frac{1}{\\alpha} (1, -\\beta^i)$$ such that\n",
    "$$n^i = -\\frac{1}{\\alpha} \\beta^i$$ and $$n_i = \\gamma_{ij}n^j = \\psi^4\\eta_{ij}n^j = -\\psi^4\\frac{1}{\\alpha}\\eta_{ij}\\beta^j$$"
   ]
  },
  {
   "cell_type": "code",
   "execution_count": 7,
   "id": "c2c3a804-2714-4258-b620-f246557f692c",
   "metadata": {},
   "outputs": [
    {
     "data": {
      "image/png": "[encoded data removed]",
      "text/latex": [
       "$\\displaystyle \\left[\\begin{matrix}0 & 0 & 0\\end{matrix}\\right]$"
      ],
      "text/plain": [
       "[0  0  0]"
      ]
     },
     "metadata": {},
     "output_type": "display_data"
    },
    {
     "data": {
      "image/png": "[encoded data removed]",
      "text/latex": [
       "$\\displaystyle \\left[\\begin{matrix}0 & 0 & 0\\end{matrix}\\right]$"
      ],
      "text/plain": [
       "[0  0  0]"
      ]
     },
     "metadata": {},
     "output_type": "display_data"
    }
   ],
   "source": [
    "'''\n",
    "Define normal vectors\n",
    "'''\n",
    "\n",
    "# Index up\n",
    "def norm_up(alpha, beta, coords):\n",
    "    dim = len(coords)\n",
    "    n_up = sp.MutableDenseNDimArray.zeros(dim)\n",
    "    for i in range(dim):\n",
    "        n_up[[i]] = - 1/alpha * beta[i]\n",
    "    return n_up\n",
    "\n",
    "# Index down\n",
    "def norm_down(alpha, beta, psi4, eta, coords):\n",
    "    dim = len(coords)\n",
    "    n_down = sp.MutableDenseNDimArray.zeros(dim)\n",
    "    for i in range(dim):\n",
    "        n_down[[i]] = - psi4 * 1/alpha * sum(eta[i, j] * beta[j] for j in range(dim))\n",
    "    return n_down\n",
    "\n",
    "    \n",
    "#n_up = norm_up(alpha, beta, coords)\n",
    "#n_down = norm_down(alpha, beta, psi4, eta, coords)\n",
    "\n",
    "#display(n_up, n_down)"
   ]
  },
  {
   "cell_type": "markdown",
   "id": "5e0e280e-055c-449c-b449-9ebac17ad7cb",
   "metadata": {},
   "source": [
    "# Christoffel symbols"
   ]
  },
  {
   "cell_type": "markdown",
   "id": "598242b4-2775-46ef-8348-0f5fd506a2d8",
   "metadata": {},
   "source": [
    "In the conformally flat assumption $$\\gamma^{ij} = \\psi^{-4} \\eta^{ij}$$ the Christoffel symbols become\n",
    "$$\\begin{aligned}\n",
    "\\Gamma^i_{jk} &= \\frac{1}{2} \\gamma^{ia} (\\partial_j \\gamma_{ka} + \\partial_k \\gamma_{ja} - \\partial_a \\gamma_{jk}) \\\\[5pt]\n",
    "&= \\frac{1}{2} \\psi^{-4} \\eta^{ia} \\left[\\partial_j(\\psi^4\\eta_{nk}) + \\partial_k(\\psi^4\\eta_{ja}) - \\partial_a(\\psi^4\\eta_{jk})\\right] \\\\[5pt]\n",
    "&= \\frac{1}{2} \\eta^{ia} (\\partial_j \\eta_{ka} + \\partial_k \\eta_{ja} - \\partial_a \\eta_{jk}) + \\frac{1}{2} \\psi^{-4} \\eta^{ia} (\\eta_{ka} \\partial_j \\psi^4 + \\eta_{ja} \\partial_k \\psi^4 - \\eta_{jk} \\partial_a \\psi^4)\n",
    "\\end{aligned}$$"
   ]
  },
  {
   "cell_type": "code",
   "execution_count": 8,
   "id": "5dc05e62-01cc-4aba-aa74-f4517617dbba",
   "metadata": {},
   "outputs": [
    {
     "data": {
      "image/png": "[encoded data removed]",
      "text/latex": [
       "$\\displaystyle \\left[\\begin{matrix}\\left[\\begin{matrix}- \\frac{1.0 M}{r^{2} \\left(\\frac{M}{2 r} + 1\\right)} & 0 & 0\\\\0 & \\frac{1.0 M}{\\frac{M}{2 r} + 1} - 1.0 r & 0\\\\0 & 0 & \\frac{1.0 M \\sin^{2}{\\left(\\theta \\right)}}{\\frac{M}{2 r} + 1} - 1.0 r \\sin^{2}{\\left(\\theta \\right)}\\end{matrix}\\right] & \\left[\\begin{matrix}0 & - \\frac{1.0 M}{r^{2} \\left(\\frac{M}{2 r} + 1\\right)} + \\frac{1.0}{r} & 0\\\\- \\frac{1.0 M}{r^{2} \\left(\\frac{M}{2 r} + 1\\right)} + \\frac{1.0}{r} & 0 & 0\\\\0 & 0 & - 1.0 \\sin{\\left(\\theta \\right)} \\cos{\\left(\\theta \\right)}\\end{matrix}\\right] & \\left[\\begin{matrix}0 & 0 & - \\frac{1.0 M}{r^{2} \\left(\\frac{M}{2 r} + 1\\right)} + \\frac{1.0}{r}\\\\0 & 0 & \\frac{1.0 \\cos{\\left(\\theta \\right)}}{\\sin{\\left(\\theta \\right)}}\\\\- \\frac{1.0 M}{r^{2} \\left(\\frac{M}{2 r} + 1\\right)} + \\frac{1.0}{r} & \\frac{1.0 \\cos{\\left(\\theta \\right)}}{\\sin{\\left(\\theta \\right)}} & 0\\end{matrix}\\right]\\end{matrix}\\right]$"
      ],
      "text/plain": [
       "⎡⎡  -1.0⋅M                                            ⎤                       \n",
       "⎢⎢────────────       0                   0            ⎥                       \n",
       "⎢⎢ 2 ⎛ M     ⎞                                        ⎥                       \n",
       "⎢⎢r ⋅⎜─── + 1⎟                                        ⎥  ⎡                    \n",
       "⎢⎢   ⎝2⋅r    ⎠                                        ⎥  ⎢         0          \n",
       "⎢⎢                                                    ⎥  ⎢                    \n",
       "⎢⎢               1.0⋅M                                ⎥  ⎢                    \n",
       "⎢⎢     0        ─────── - r              0            ⎥  ⎢                    \n",
       "⎢⎢               M                                    ⎥  ⎢                    \n",
       "⎢⎢              ─── + 1                               ⎥  ⎢       M         1.0\n",
       "⎢⎢              2⋅r                                   ⎥  ⎢- ──────────── + ───\n",
       "⎢⎢                                                    ⎥  ⎢   2 ⎛ M     ⎞    r \n",
       "⎢⎢                                    2               ⎥  ⎢  r ⋅⎜─── + 1⎟      \n",
       "⎢⎢                           1.0⋅M⋅sin (θ)        2   ⎥  ⎢     ⎝2⋅r    ⎠      \n",
       "⎢⎢     0             0       ───────────── - r⋅sin (θ)⎥  ⎢                    \n",
       "⎢⎢                               M                    ⎥  ⎣         0          \n",
       "⎢⎢                              ─── + 1               ⎥                       \n",
       "⎣⎣                              2⋅r                   ⎦                       \n",
       "\n",
       "                                                                              \n",
       "                                                                              \n",
       "                                             ⎡                                \n",
       "         M         1.0                    ⎤  ⎢         0                0     \n",
       "  - ──────────── + ───          0         ⎥  ⎢                                \n",
       "     2 ⎛ M     ⎞    r                     ⎥  ⎢                                \n",
       "    r ⋅⎜─── + 1⎟                          ⎥  ⎢                                \n",
       "       ⎝2⋅r    ⎠                          ⎥  ⎢                                \n",
       "                                          ⎥  ⎢                                \n",
       "                                          ⎥  ⎢         0                0     \n",
       "           0                    0         ⎥  ⎢                                \n",
       "                                          ⎥  ⎢                                \n",
       "                                          ⎥  ⎢       M         1.0  1.0⋅cos(θ)\n",
       "                                          ⎥  ⎢- ──────────── + ───  ──────────\n",
       "                                          ⎥  ⎢   2 ⎛ M     ⎞    r     sin(θ)  \n",
       "           0            -1.0⋅sin(θ)⋅cos(θ)⎦  ⎢  r ⋅⎜─── + 1⎟                  \n",
       "                                             ⎣     ⎝2⋅r    ⎠                  \n",
       "                                                                              \n",
       "\n",
       "                       ⎤\n",
       "                       ⎥\n",
       "         M         1.0⎤⎥\n",
       "  - ──────────── + ───⎥⎥\n",
       "     2 ⎛ M     ⎞    r ⎥⎥\n",
       "    r ⋅⎜─── + 1⎟      ⎥⎥\n",
       "       ⎝2⋅r    ⎠      ⎥⎥\n",
       "                      ⎥⎥\n",
       "       1.0⋅cos(θ)     ⎥⎥\n",
       "       ──────────     ⎥⎥\n",
       "         sin(θ)       ⎥⎥\n",
       "                      ⎥⎥\n",
       "                      ⎥⎥\n",
       "           0          ⎥⎥\n",
       "                      ⎥⎥\n",
       "                      ⎥⎥\n",
       "                      ⎦⎥\n",
       "                       ⎦"
      ]
     },
     "metadata": {},
     "output_type": "display_data"
    }
   ],
   "source": [
    "'''\n",
    "Christoffel symbols\n",
    "'''\n",
    "\n",
    "def christoffel_symbols(psi4, eta, eta_inv, coords):\n",
    "    n = len(coords)\n",
    "    Gamma = sp.MutableDenseNDimArray.zeros(n, n, n)\n",
    "    \n",
    "    for i in range(n):\n",
    "        for j in range(n):\n",
    "            for k in range(n):\n",
    "                Gamma[i, j, k] = (0.5 * sum([eta_inv[i, a] * (sp.diff(eta[k, a], coords[j]) + \n",
    "                                                           sp.diff(eta[j, a], coords[k]) - \n",
    "                                                           sp.diff(eta[j, k], coords[a])) for a in range(n)]) +\n",
    "                                 0.5 * 1/psi4 * sum([eta_inv[i, a] * (eta[k, a] * sp.diff(psi4, coords[j]) + \n",
    "                                                                       eta[j, a] * sp.diff(psi4, coords[k]) - \n",
    "                                                                       eta[j, k] * sp.diff(psi4, coords[a])) for a in range(n)]))\n",
    "    return Gamma\n",
    "\n",
    "\n",
    "# Calculate the Christoffel symbols\n",
    "#christoffel = christoffel_symbols(psi4, eta, eta_inv, coords)\n",
    "\n",
    "#display(christoffel)"
   ]
  },
  {
   "cell_type": "markdown",
   "id": "a53b5c71-cf51-4fee-9fb4-89edc9926704",
   "metadata": {},
   "source": [
    "# Vector s"
   ]
  },
  {
   "cell_type": "markdown",
   "id": "7fd87ecc-fc83-4081-8e02-d25983506b95",
   "metadata": {},
   "source": [
    "Vector $s$ given by $$s_i = \\lambda (1, -\\partial_{\\theta}h, \\partial_{\\phi}h)$$ such that $$s^i = \\gamma^{ij} s_j = \\psi^4 \\eta^{ij} s_j \\quad \\Leftrightarrow \\quad s^i = \\lambda \\psi^4 \\left(1, -\\frac{1}{r^2} \\partial_{\\theta}h, -\\frac{1}{r^2 \\sin^2{\\theta}} \\partial_{\\phi}h\\right)$$ and $$1 = s_i s^i = \\lambda^2 \\psi^4 \\left(1 + \\frac{1}{r^2} (\\partial_{\\theta}h)^2 + \\frac{1}{r^2 \\sin^2{\\theta}} (\\partial_{\\phi}h)^2\\right)$$"
   ]
  },
  {
   "cell_type": "code",
   "execution_count": 9,
   "id": "e7c95c16-02fb-467c-8d0c-5982368c4ac8",
   "metadata": {},
   "outputs": [],
   "source": [
    "'''\n",
    "Spacelike outward-pointing vector s\n",
    "'''\n",
    "\n",
    "def s_norm(h, psi4, coords, eta_inv):\n",
    "    n = len(coords)\n",
    "    #s = Array([1, 0, 0])\n",
    "    s = Array([1, -diff(h, theta), 0])\n",
    "    #s = Array([1, -diff(h, theta), -diff(h, phi)])\n",
    "    s_inv = sp.MutableDenseNDimArray.zeros(n)\n",
    "    for i in range(n):\n",
    "        s_inv[[i]] = psi4 * sum([eta_inv[i, j] * s[j] for j in range(n)])\n",
    "    norm = 1 / (sum(s[i] * s_inv[i] for i in range(n)))\n",
    "    N = sp.sqrt(norm)\n",
    "    s_norm = N * s\n",
    "    s_inv_norm = N * s_inv\n",
    "    return s_inv_norm\n",
    "\n",
    "\n",
    "#s_inv_norm = s_norm(h, psi4, coords, eta_inv)"
   ]
  },
  {
   "cell_type": "markdown",
   "id": "876343d9-91c0-4049-8af4-2f190d01ee0e",
   "metadata": {},
   "source": [
    "# Extrinsic curvature"
   ]
  },
  {
   "cell_type": "markdown",
   "id": "5b1d5921-cb27-459d-a5c7-bc66a1102cbf",
   "metadata": {},
   "source": [
    "Calculating from the formula $$K_{ij} = \\gamma_i^a \\gamma_j^b \\nabla_a n_b$$ where $$\\gamma_i^a = \\delta_i^a + n^a n_i$$"
   ]
  },
  {
   "cell_type": "code",
   "execution_count": 10,
   "id": "15970506-c663-4d96-997d-f126ba1c9a41",
   "metadata": {},
   "outputs": [
    {
     "data": {
      "image/png": "[encoded data removed]",
      "text/latex": [
       "$\\displaystyle \\left[\\begin{matrix}0 & 0 & 0\\\\0 & 0 & 0\\\\0 & 0 & 0\\end{matrix}\\right]$"
      ],
      "text/plain": [
       "⎡0  0  0⎤\n",
       "⎢       ⎥\n",
       "⎢0  0  0⎥\n",
       "⎢       ⎥\n",
       "⎣0  0  0⎦"
      ]
     },
     "metadata": {},
     "output_type": "display_data"
    }
   ],
   "source": [
    "'''\n",
    "Extrinsic Curvature\n",
    "'''\n",
    "\n",
    "def extrinsic_curvature(n_up, n_down, christoffel, coords):\n",
    "    n = len(coords)\n",
    "    delta = eye(n)\n",
    "    K = sp.MutableDenseNDimArray.zeros(n, n)\n",
    "    for i in range(n):\n",
    "        for j in range(n):\n",
    "            K[i, j] = sum(sum((delta[i, a] + n_up[a]*n_down[i]) * (delta[j, b] + n_up[b]*n_down[j]) * (diff(n_down[b], coords[a]) -\n",
    "                      sum(christoffel[k, a, b]*n_down[k] for k in range(n))) for b in range(n)) for a in range(n))\n",
    "    return K\n",
    "\n",
    "\n",
    "#cur = extrinsic_curvature(n_up, n_down, christoffel, coords)\n",
    "#display(sp.simplify(cur))"
   ]
  },
  {
   "cell_type": "markdown",
   "id": "75f540d8-848a-4b89-be25-48174ccbc524",
   "metadata": {},
   "source": [
    "# Expansion equation"
   ]
  },
  {
   "cell_type": "markdown",
   "id": "f45ac161-50e5-4f20-9a01-0ffc8ce0a619",
   "metadata": {},
   "source": [
    "The expansion equation is $$\\Theta = \\nabla_i s^i + s^i s^j K_{ij} - K = 0$$\n",
    "We assume maximal slicing condition such that $$K = 0$$"
   ]
  },
  {
   "cell_type": "code",
   "execution_count": 11,
   "id": "e4f87bdd-ff17-4263-acc1-d14261418c6f",
   "metadata": {},
   "outputs": [],
   "source": [
    "'''\n",
    "Expansion function\n",
    "'''\n",
    "\n",
    "# First term\n",
    "def cov_derivative(christoffel, s, coords):\n",
    "    n = len(coords)\n",
    "    cov_dev = sum(diff(s[i], coords[i]) for i in range(n)) + sum(sum(christoffel[i, i, j] * s[j] for j in range(n)) for i in range(n))\n",
    "    return cov_dev\n",
    "\n",
    "# Second term\n",
    "def curv(ext_curv, s, coords):\n",
    "    n = len(coords)\n",
    "    curv = sum(sum(ext_curv[i, j] * s[i] * s[j] for j in range(n)) for i in range(n))\n",
    "    return curv\n",
    "\n",
    "# Full equation\n",
    "def expansion(christoffel, s, ext_curv, coords):\n",
    "    return (cov_derivative(christoffel, s, coords) + curv(ext_curv, s, coords))"
   ]
  },
  {
   "cell_type": "code",
   "execution_count": 13,
   "id": "a52edcef-d5da-456b-bba6-dc63a4e3ba68",
   "metadata": {},
   "outputs": [
    {
     "data": {
      "image/png": "[encoded data removed]",
      "text/latex": [
       "$\\displaystyle \\frac{\\sqrt{\\frac{r^{6}}{\\left(M + 2 r\\right)^{4} \\left(r^{2} + \\left(\\frac{d}{d \\theta} h{\\left(\\theta \\right)}\\right)^{2}\\right)}} \\left(M + 2 r\\right)^{3} \\left(- 1.5 M r^{3} - 0.25 M r^{2} \\frac{d^{2}}{d \\theta^{2}} h{\\left(\\theta \\right)} - \\frac{0.25 M r^{2} \\frac{d}{d \\theta} h{\\left(\\theta \\right)}}{\\tan{\\left(\\theta \\right)}} - 1.25 M r \\left(\\frac{d}{d \\theta} h{\\left(\\theta \\right)}\\right)^{2} - \\frac{0.25 M \\left(\\frac{d}{d \\theta} h{\\left(\\theta \\right)}\\right)^{3}}{\\tan{\\left(\\theta \\right)}} + r^{4} - 0.5 r^{3} \\frac{d^{2}}{d \\theta^{2}} h{\\left(\\theta \\right)} - \\frac{0.5 r^{3} \\frac{d}{d \\theta} h{\\left(\\theta \\right)}}{\\tan{\\left(\\theta \\right)}} + 1.5 r^{2} \\left(\\frac{d}{d \\theta} h{\\left(\\theta \\right)}\\right)^{2} - \\frac{0.5 r \\left(\\frac{d}{d \\theta} h{\\left(\\theta \\right)}\\right)^{3}}{\\tan{\\left(\\theta \\right)}}\\right)}{r^{6} \\left(r^{2} + \\left(\\frac{d}{d \\theta} h{\\left(\\theta \\right)}\\right)^{2}\\right)}$"
      ],
      "text/plain": [
       "                                                   ⎛                          \n",
       "        _______________________________            ⎜                          \n",
       "       ╱                6                          ⎜                         2\n",
       "      ╱                r                         3 ⎜         3           2  d \n",
       "     ╱   ───────────────────────────── ⋅(M + 2⋅r) ⋅⎜- 1.5⋅M⋅r  - 0.25⋅M⋅r ⋅───\n",
       "    ╱               ⎛               2⎞             ⎜                         2\n",
       "   ╱              4 ⎜ 2   ⎛d       ⎞ ⎟             ⎝                       dθ \n",
       "  ╱      (M + 2⋅r) ⋅⎜r  + ⎜──(h(θ))⎟ ⎟                                        \n",
       "╲╱                  ⎝     ⎝dθ      ⎠ ⎠                                        \n",
       "──────────────────────────────────────────────────────────────────────────────\n",
       "                                                                              \n",
       "                                                                              \n",
       "                                                                              \n",
       "                                                                              \n",
       "\n",
       "                                                                      3       \n",
       "                 2 d                                        ⎛d       ⎞        \n",
       "         0.25⋅M⋅r ⋅──(h(θ))                      2   0.25⋅M⋅⎜──(h(θ))⎟        \n",
       "                   dθ                  ⎛d       ⎞           ⎝dθ      ⎠     4  \n",
       "(h(θ)) - ────────────────── - 1.25⋅M⋅r⋅⎜──(h(θ))⎟  - ────────────────── + r  -\n",
       "               tan(θ)                  ⎝dθ      ⎠          tan(θ)             \n",
       "                                                                              \n",
       "                                                                              \n",
       "                                                                              \n",
       "──────────────────────────────────────────────────────────────────────────────\n",
       "                               ⎛               2⎞                             \n",
       "                             6 ⎜ 2   ⎛d       ⎞ ⎟                             \n",
       "                            r ⋅⎜r  + ⎜──(h(θ))⎟ ⎟                             \n",
       "                               ⎝     ⎝dθ      ⎠ ⎠                             \n",
       "\n",
       "                                                                           3⎞\n",
       "                         3 d                                     ⎛d       ⎞ ⎟\n",
       "          2         0.5⋅r ⋅──(h(θ))                    2   0.5⋅r⋅⎜──(h(θ))⎟ ⎟\n",
       "      3  d                 dθ              2 ⎛d       ⎞          ⎝dθ      ⎠ ⎟\n",
       " 0.5⋅r ⋅───(h(θ)) - ─────────────── + 1.5⋅r ⋅⎜──(h(θ))⎟  - ─────────────────⎟\n",
       "          2              tan(θ)              ⎝dθ      ⎠          tan(θ)     ⎟\n",
       "        dθ                                                                  ⎠\n",
       "                                                                             \n",
       "                                                                             \n",
       "─────────────────────────────────────────────────────────────────────────────\n",
       "                                                                             \n",
       "                                                                             \n",
       "                                                                             \n",
       "                                                                             "
      ]
     },
     "metadata": {},
     "output_type": "display_data"
    }
   ],
   "source": [
    "test = expansion(christoffel, s_inv_norm, cur, coords)\n",
    "display(sp.simplify(test))"
   ]
  },
  {
   "cell_type": "markdown",
   "id": "8a983761-d139-40fa-8c41-1c8a1b517e15",
   "metadata": {},
   "source": [
    "***"
   ]
  },
  {
   "cell_type": "markdown",
   "id": "2b4f418f-37d9-473c-888e-5b0700a2da52",
   "metadata": {},
   "source": [
    "***"
   ]
  },
  {
   "cell_type": "markdown",
   "id": "cebad81a-a910-408a-ae12-80345080b037",
   "metadata": {},
   "source": [
    "***"
   ]
  },
  {
   "cell_type": "markdown",
   "id": "9f5f7c27-39db-4a83-bfae-1dc33b74b1e6",
   "metadata": {},
   "source": [
    "***"
   ]
  }
 ],
 "metadata": {
  "kernelspec": {
   "display_name": "Python 3 (ipykernel)",
   "language": "python",
   "name": "python3"
  },
  "language_info": {
   "codemirror_mode": {
    "name": "ipython",
    "version": 3
   },
   "file_extension": ".py",
   "mimetype": "text/x-python",
   "name": "python",
   "nbconvert_exporter": "python",
   "pygments_lexer": "ipython3",
   "version": "3.8.19"
  }
 },
 "nbformat": 4,
 "nbformat_minor": 5
}
