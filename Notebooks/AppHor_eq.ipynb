{
 "cells": [
  {
   "cell_type": "code",
   "execution_count": 2,
   "id": "b1a06d5d-d3c4-4b2a-8ee1-3a528d4367f9",
   "metadata": {},
   "outputs": [],
   "source": [
    "import sympy as sp\n",
    "from sympy import *\n",
    "init_printing()"
   ]
  },
  {
   "cell_type": "markdown",
   "id": "1e4fbc3d-600e-4b44-84c4-3a6eae48bb74",
   "metadata": {},
   "source": [
    "# Coordinates and 3+1 metric"
   ]
  },
  {
   "cell_type": "code",
   "execution_count": 22,
   "id": "391885af-ddcd-40be-a79e-a06508612f24",
   "metadata": {},
   "outputs": [],
   "source": [
    "'''\n",
    "Define coordinates\n",
    "'''\n",
    "\n",
    "r, theta, phi = symbols('r, theta, phi')\n",
    "h = Function('h')(theta, phi)\n",
    "N = symbols('N')\n",
    "M = symbols('M')\n",
    "R = symbols('R')\n",
    "\n",
    "coords = [r, theta, phi]"
   ]
  },
  {
   "cell_type": "code",
   "execution_count": 23,
   "id": "361fded8-8369-416c-8665-87529bee4879",
   "metadata": {},
   "outputs": [],
   "source": [
    "'''\n",
    "Input: 3+1 formalism: alpha, beta and gamma\n",
    "*To do: function which gives 3+1 components from general metric*\n",
    "'''\n",
    "\n",
    "alpha = sp.sqrt(1 - 2*M/r)\n",
    "beta = Array([0, 0, 0])\n",
    "\n",
    "g_11 = 1 / (1 - 2*M/r)\n",
    "g_12 = 0\n",
    "g_13 = 0\n",
    "g_22 = r**2\n",
    "g_23 = 0\n",
    "g_33 = r**2 * (sp.sin(theta))**2\n",
    "\n",
    "gamma = Matrix([[g_11, g_12, g_13], [g_12, g_22, g_23], [g_13, g_23, g_33]])\n",
    "\n",
    "\n",
    "\n",
    "'''\n",
    "Calculate inverse\n",
    "'''\n",
    "\n",
    "gamma_inv = gamma**(-1)\n",
    "\n",
    "\n",
    "#\n",
    "#beta = sp.MutableDenseNDimArray.zeros(len(coords))\n",
    "#for i in range(len(coords)):\n",
    "#    beta[[i]] = sum([gamma_inv[i, j] * beta_d[j] for j in range(len(coords))])\n",
    "\n",
    "\n",
    "\n",
    "#alpha = sp.simplify(sp.sqrt((1-2*M/r) - sum(beta[i] * beta_d[i] for i in range(len(coords)))))"
   ]
  },
  {
   "cell_type": "markdown",
   "id": "2212c43f-c4cf-415d-baca-69152741c575",
   "metadata": {},
   "source": [
    "# Normal vectors"
   ]
  },
  {
   "cell_type": "markdown",
   "id": "d3323fe5-0742-4d1f-a381-d9c18551464d",
   "metadata": {},
   "source": [
    "Normal vector is defined as $$n^{\\mu} = \\frac{1}{\\alpha} (1, -\\beta^i)$$"
   ]
  },
  {
   "cell_type": "code",
   "execution_count": 24,
   "id": "11147057-1ddb-40b9-b7d7-6f419773c8fa",
   "metadata": {},
   "outputs": [
    {
     "data": {
      "image/png": "[encoded data removed]",
      "text/latex": [
       "$\\displaystyle \\left[\\begin{matrix}0 & 0 & 0\\end{matrix}\\right]$"
      ],
      "text/plain": [
       "[0  0  0]"
      ]
     },
     "metadata": {},
     "output_type": "display_data"
    },
    {
     "data": {
      "image/png": "[encoded data removed]",
      "text/latex": [
       "$\\displaystyle \\left[\\begin{matrix}0 & 0 & 0\\end{matrix}\\right]$"
      ],
      "text/plain": [
       "[0  0  0]"
      ]
     },
     "metadata": {},
     "output_type": "display_data"
    }
   ],
   "source": [
    "'''\n",
    "Normal 3-vector to hypersurface n_i\n",
    "'''\n",
    "\n",
    "# Normal 3-vector with index down\n",
    "def normal_up(alpha, beta, coords):\n",
    "    dim = len(coords)\n",
    "    n = sp.MutableDenseNDimArray.zeros(dim)\n",
    "    for i in range(dim):\n",
    "        n[[i]] = - 1/alpha * beta[i]\n",
    "    return n\n",
    "\n",
    "# Normal 3-vector with index up contracted with spatial metric\n",
    "def normal_down(alpha, beta, gamma, coords):\n",
    "    dim = len(coords)\n",
    "    n_up = normal_up(alpha, beta, coords)\n",
    "    n = sp.MutableDenseNDimArray.zeros(dim)\n",
    "    for i in range(dim):\n",
    "        n[[i]] = sum([gamma[i, j] * n_up[j] for j in range(dim)])\n",
    "    return n\n",
    "\n",
    "n_up = normal_up(alpha, beta, coords)\n",
    "n_down = normal_down(alpha, beta, gamma, coords)\n",
    "\n",
    "display(n_up, n_down)"
   ]
  },
  {
   "cell_type": "markdown",
   "id": "66213468-d607-4579-b14f-1cfcbd2baf76",
   "metadata": {},
   "source": [
    "# Christoffel symbols"
   ]
  },
  {
   "cell_type": "markdown",
   "id": "04516a18-56fd-4757-9b38-8f2ab2303346",
   "metadata": {},
   "source": [
    "Calculating from the formula $$\\Gamma^{i}_{jk} = \\frac{1}{2} \\gamma^{ia} (\\partial_{j}\\gamma_{ka} + \\partial_{k}\\gamma_{ja} - \\partial_{a}\\gamma_{jk})$$"
   ]
  },
  {
   "cell_type": "code",
   "execution_count": 25,
   "id": "09babf3b-4bcc-4b06-b8fb-c2a4e52384c2",
   "metadata": {},
   "outputs": [],
   "source": [
    "'''\n",
    "Christoffel symbols\n",
    "'''\n",
    "def christoffel_symbols(g, g_inv, coords):\n",
    "    n = len(coords)\n",
    "    Gamma = sp.MutableDenseNDimArray.zeros(n, n, n)\n",
    "    \n",
    "    for k in range(n):\n",
    "        for i in range(n):\n",
    "            for j in range(n):\n",
    "                Gamma[k, i, j] = 0.5 * sum([g_inv[k, l] * (sp.diff(g[l, j], coords[i]) + \n",
    "                                                           sp.diff(g[l, i], coords[j]) - \n",
    "                                                           sp.diff(g[i, j], coords[l])) for l in range(n)])\n",
    "    return Gamma\n",
    "\n",
    "# Calculate the Christoffel symbols\n",
    "christoffel = christoffel_symbols(gamma, gamma_inv, coords)"
   ]
  },
  {
   "cell_type": "markdown",
   "id": "f6cb9aa2-9dc0-4b84-a49c-891bc1efaae8",
   "metadata": {},
   "source": [
    "# Vector s"
   ]
  },
  {
   "cell_type": "markdown",
   "id": "bae62b5c-af2b-4e58-8e83-2af42675b90b",
   "metadata": {},
   "source": [
    "Vector $s$ given by $$s_i = \\lambda (1, -\\partial_{\\theta}h, \\partial_{\\phi}h)$$ with $\\lambda$ a normalization factor such that $$s_i s^i = 1$$"
   ]
  },
  {
   "cell_type": "code",
   "execution_count": 26,
   "id": "95db5149-58f0-410a-875f-9447930e8b06",
   "metadata": {},
   "outputs": [
    {
     "data": {
      "image/png": "[encoded data removed]",
      "text/latex": [
       "$\\displaystyle \\sqrt{\\frac{1}{- \\frac{R}{r} + 1}}$"
      ],
      "text/plain": [
       "      _________\n",
       "     ╱    1    \n",
       "    ╱  ─────── \n",
       "   ╱     R     \n",
       "  ╱    - ─ + 1 \n",
       "╲╱       r     "
      ]
     },
     "metadata": {},
     "output_type": "display_data"
    }
   ],
   "source": [
    "'''\n",
    "Spacelike outward-pointing vector s\n",
    "'''\n",
    "\n",
    "n = len(coords)\n",
    "s = Array([1, 0, 0])\n",
    "#s = Array([1, -diff(h, theta), 0])\n",
    "#s = Array([1, -diff(h, theta), -diff(h, phi)])\n",
    "s_inv = sp.MutableDenseNDimArray.zeros(n)\n",
    "for i in range(n):\n",
    "    s_inv[[i]] = sum([gamma_inv[i, j] * s[j] for j in range(n)])\n",
    "norm = 1 / (sum(s[i] * s_inv[i] for i in range(n)))\n",
    "N = sp.sqrt(norm)\n",
    "s_norm = N * s\n",
    "s_inv_norm = sp.MutableDenseNDimArray.zeros(n)\n",
    "for i in range(n):\n",
    "    s_inv_norm[[i]] = sum([gamma_inv[i, j] * s_norm[j] for j in range(n)])\n",
    "\n",
    "display(N)"
   ]
  },
  {
   "cell_type": "markdown",
   "id": "241437c4-83f4-4eb7-93ff-016bafe4044c",
   "metadata": {},
   "source": [
    "# Extrinsic curvature"
   ]
  },
  {
   "cell_type": "markdown",
   "id": "a6ddb2c4-8809-4c61-bc36-030b61429b69",
   "metadata": {},
   "source": [
    "Calculating from the formula $$K_{ij} = \\gamma_i^a \\gamma_j^b \\nabla_a n_b$$ where $$\\gamma_i^a = \\delta_i^a + n^a n_i$$"
   ]
  },
  {
   "cell_type": "code",
   "execution_count": 27,
   "id": "f4f4cfe0-5fc9-45a2-b6f2-92fbdc717495",
   "metadata": {},
   "outputs": [
    {
     "data": {
      "image/png": "[encoded data removed]",
      "text/latex": [
       "$\\displaystyle \\left[\\begin{matrix}0 & 0 & 0\\\\0 & 0 & 0\\\\0 & 0 & 0\\end{matrix}\\right]$"
      ],
      "text/plain": [
       "⎡0  0  0⎤\n",
       "⎢       ⎥\n",
       "⎢0  0  0⎥\n",
       "⎢       ⎥\n",
       "⎣0  0  0⎦"
      ]
     },
     "metadata": {},
     "output_type": "display_data"
    }
   ],
   "source": [
    "'''\n",
    "Extrinsic Curvature\n",
    "'''\n",
    "\n",
    "def extrinsic_curvature(n_up, n_down, christoffel, coords):\n",
    "    n = len(coords)\n",
    "    delta = eye(n)\n",
    "    K = sp.MutableDenseNDimArray.zeros(n, n)\n",
    "    for i in range(n):\n",
    "        for j in range(n):\n",
    "            K[i, j] = sum(sum((delta[i, a] + n_up[a]*n_down[i]) * (delta[j, b] + n_up[b]*n_down[j]) * (diff(n_down[b], coords[a]) -\n",
    "                      sum(christoffel[k, a, b]*n_down[k] for k in range(n))) for b in range(n)) for a in range(n))\n",
    "    return K\n",
    "\n",
    "cur = extrinsic_curvature(n_up, n_down, christoffel, coords)\n",
    "display(sp.simplify(cur))"
   ]
  },
  {
   "cell_type": "markdown",
   "id": "a59cf71c-1dc0-4783-a671-30f1802b9224",
   "metadata": {},
   "source": [
    "# Expansion equation (symbolic)"
   ]
  },
  {
   "cell_type": "markdown",
   "id": "28f57e4d-d86f-4d8e-b0d6-b9de9c4b15be",
   "metadata": {},
   "source": [
    "The expansion equation is $$\\Theta = \\nabla_i s^i + s^i s^j K_{ij} - K = 0$$ \\\n",
    "We assume maximal slicing condition such that $$K = 0$$"
   ]
  },
  {
   "cell_type": "code",
   "execution_count": 28,
   "id": "8c5208a9-71d2-4fa0-87bb-b63be8a0f438",
   "metadata": {},
   "outputs": [],
   "source": [
    "'''\n",
    "Expansion function\n",
    "'''\n",
    "\n",
    "# First term\n",
    "def cov_derivative(christoffel, s, coords):\n",
    "    n = len(coords)\n",
    "    cov_dev = sum(diff(s[i], coords[i]) for i in range(n)) + sum(sum(christoffel[i, i, j] * s[j] for j in range(n)) for i in range(n))\n",
    "    return cov_dev\n",
    "\n",
    "# Second term\n",
    "def curv(ext_curv, s, coords):\n",
    "    n = len(coords)\n",
    "    curv = sum(sum(ext_curv[i, j] * s[i] * s[j] for j in range(n)) for i in range(n))\n",
    "    return curv\n",
    "\n",
    "'''\n",
    "# Third term\n",
    "def trace_curv(gamma_inv, ext_curv, coords):\n",
    "    n = len(coords)\n",
    "    trace = sum(sum(gamma_inv[i, j] * ext_curv[i, j] for j in range(n)) for i in range(n))\n",
    "    return trace\n",
    "'''\n",
    "\n",
    "# Full equation\n",
    "def expansion(christoffel, s, ext_curv, gamma_inv):\n",
    "    return (cov_derivative(christoffel, s, coords) + curv(ext_curv, s, coords) #- trace_curv(gamma_inv, ext_curv, coords))"
   ]
  },
  {
   "cell_type": "code",
   "execution_count": 30,
   "id": "e275c7f8-76e4-4715-a08c-85434d7e09e6",
   "metadata": {},
   "outputs": [
    {
     "data": {
      "image/png": "[encoded data removed]",
      "text/latex": [
       "$\\displaystyle \\frac{2.0 \\sqrt{- \\frac{r}{R - r}} \\left(- R + r\\right)}{r^{2}}$"
      ],
      "text/plain": [
       "        _______         \n",
       "       ╱  -r            \n",
       "2.0⋅  ╱  ───── ⋅(-R + r)\n",
       "    ╲╱   R - r          \n",
       "────────────────────────\n",
       "            2           \n",
       "           r            "
      ]
     },
     "metadata": {},
     "output_type": "display_data"
    },
    {
     "data": {
      "image/png": "[encoded data removed]",
      "text/latex": [
       "$\\displaystyle \\frac{2.0 \\left(- \\frac{R}{h{\\left(\\theta,\\phi \\right)}} + 1\\right) \\sqrt{\\frac{1}{- \\frac{R}{h{\\left(\\theta,\\phi \\right)}} + 1}}}{h{\\left(\\theta,\\phi \\right)}}$"
      ],
      "text/plain": [
       "                          _______________\n",
       "    ⎛     R       ⎞      ╱       1       \n",
       "2.0⋅⎜- ─────── + 1⎟⋅    ╱  ───────────── \n",
       "    ⎝  h(θ, φ)    ⎠    ╱        R        \n",
       "                      ╱    - ─────── + 1 \n",
       "                    ╲╱       h(θ, φ)     \n",
       "─────────────────────────────────────────\n",
       "                 h(θ, φ)                 "
      ]
     },
     "metadata": {},
     "output_type": "display_data"
    }
   ],
   "source": [
    "test = expansion(christoffel, s_inv_norm, cur, gamma_inv)\n",
    "display(simplify(test))\n",
    "display(test.subs(r, h))"
   ]
  },
  {
   "cell_type": "code",
   "execution_count": null,
   "id": "bb27b2c8-75ef-4a9c-a317-0855c72f7914",
   "metadata": {},
   "outputs": [],
   "source": []
  },
  {
   "cell_type": "code",
   "execution_count": null,
   "id": "31491070-191e-4f76-bf96-e1e02eb3d451",
   "metadata": {},
   "outputs": [],
   "source": []
  },
  {
   "cell_type": "code",
   "execution_count": null,
   "id": "9675d801-eaed-47d8-903d-26c333493276",
   "metadata": {},
   "outputs": [],
   "source": []
  },
  {
   "cell_type": "code",
   "execution_count": null,
   "id": "a167f43a-4972-4010-8588-187f8457b141",
   "metadata": {},
   "outputs": [],
   "source": []
  },
  {
   "cell_type": "code",
   "execution_count": null,
   "id": "d882590f-b86c-40c5-a6b1-8ba8e35cec95",
   "metadata": {},
   "outputs": [],
   "source": []
  },
  {
   "cell_type": "code",
   "execution_count": null,
   "id": "f8f090a1-af1e-45a2-90c3-4398111ec5cd",
   "metadata": {},
   "outputs": [],
   "source": []
  }
 ],
 "metadata": {
  "kernelspec": {
   "display_name": "Python 3 (ipykernel)",
   "language": "python",
   "name": "python3"
  },
  "language_info": {
   "codemirror_mode": {
    "name": "ipython",
    "version": 3
   },
   "file_extension": ".py",
   "mimetype": "text/x-python",
   "name": "python",
   "nbconvert_exporter": "python",
   "pygments_lexer": "ipython3",
   "version": "3.8.19"
  }
 },
 "nbformat": 4,
 "nbformat_minor": 5
}
