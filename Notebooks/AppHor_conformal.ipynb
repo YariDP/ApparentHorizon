{
 "cells": [
  {
   "cell_type": "code",
   "execution_count": null,
   "id": "bba01601-4cfd-4863-a558-e5412cf32f52",
   "metadata": {},
   "outputs": [],
   "source": [
    "import sympy as sp\n",
    "import numpy as np\n",
    "from sympy import *\n",
    "init_printing()"
   ]
  },
  {
   "cell_type": "markdown",
   "id": "c643b432-88d5-4829-b6f1-c22af0fe3d4f",
   "metadata": {},
   "source": [
    "# Introduction"
   ]
  },
  {
   "cell_type": "markdown",
   "id": "1348ac48-22e7-495d-8094-3f16ceeacfe3",
   "metadata": {},
   "source": [
    "This script uses SymPy to calculate the expansion function $\\Theta$ symbolically. It requires the 3+1 ADM components $\\alpha, \\beta$ and $\\psi^4$ as input. Note that it assumes a spherical coordinate system."
   ]
  },
  {
   "cell_type": "markdown",
   "id": "06332a0f-daf2-4e06-a373-cdda35e80a93",
   "metadata": {},
   "source": [
    "# Initializing"
   ]
  },
  {
   "cell_type": "code",
   "execution_count": null,
   "id": "f9c8c34e-c7bf-4a55-93f3-7259d2834300",
   "metadata": {},
   "outputs": [],
   "source": [
    "# Initialize coordinates (spherical)\n",
    "r, theta, phi = symbols('r, theta, phi')\n",
    "coords = [r, theta, phi]\n",
    "\n",
    "########################################################################################################################################################\n",
    "\n",
    "#####################\n",
    "## Choose symmetry ##\n",
    "#####################\n",
    "    # var = 0 --> spherical symmetry\n",
    "    # var = 1 --> phi symmetry (theta case)\n",
    "    # var = 2 --> theta symmetry (phi case)\n",
    "    # var = 3 --> no symmetry (general case)\n",
    "\n",
    "var = 3\n",
    "\n",
    "if var == 0:\n",
    "    h = Function('h')\n",
    "    s = Array([1, 0, 0])\n",
    "elif var == 1:\n",
    "    h = Function('h')(theta)\n",
    "    s = Array([1, -diff(h, theta), 0])\n",
    "elif var == 2:\n",
    "    h = Function('h')(phi)\n",
    "    s = Array([1, 0, -diff(h, phi)])\n",
    "elif var == 3:\n",
    "    h = Function('h')(theta, phi)\n",
    "    s = Array([1, -diff(h, theta), -diff(h, phi)])\n",
    "    \n",
    "\n",
    "########################################################################################################################################################\n",
    "\n",
    "# Additional symbols\n",
    "N = symbols('N')\n",
    "M = symbols('M')\n",
    "R = symbols('R')\n",
    "\n",
    "\n",
    "########################################################################################################################################################\n",
    "\n",
    "\n",
    "######################################\n",
    "## ADM 3+1 components of the metric ##\n",
    "######################################\n",
    "\n",
    "alpha = Function('alpha')(r, theta, phi)   # lapse function\n",
    "alpha = (1-M/(2*r)) / (1+M/(2*r))\n",
    "\n",
    "beta = Array([0,0,0])                       # Shift vector\n",
    "\n",
    "psi = Function('psi')(r, theta, phi)       # Conformal factor\n",
    "psi = 1 + M/(2*r)\n",
    "psi4 = psi**4\n",
    "\n",
    "\n",
    "eta = diag(1, r**2, (r*sin(theta))**2)\n",
    "eta_inv = eta**(-1)"
   ]
  },
  {
   "cell_type": "markdown",
   "id": "8190f4b7-128f-4dc2-a103-3d1f338530a3",
   "metadata": {},
   "source": [
    "# Normal vectors"
   ]
  },
  {
   "cell_type": "markdown",
   "id": "95ecfea0-63f2-45d2-af5c-6109411fbd45",
   "metadata": {},
   "source": [
    "Normal vectors defined by $$n^{\\mu} = \\frac{1}{\\alpha} (1, -\\beta^i)$$ such that\n",
    "$$n^i = -\\frac{1}{\\alpha} \\beta^i$$ and $$n_i = \\gamma_{ij}n^j = \\psi^4\\eta_{ij}n^j = -\\psi^4\\frac{1}{\\alpha}\\eta_{ij}\\beta^j$$"
   ]
  },
  {
   "cell_type": "code",
   "execution_count": null,
   "id": "c2c3a804-2714-4258-b620-f246557f692c",
   "metadata": {},
   "outputs": [],
   "source": [
    "'''\n",
    "Define normal vectors\n",
    "'''\n",
    "\n",
    "# Index up\n",
    "def norm_up(alpha, beta, coords):\n",
    "    dim = len(coords)\n",
    "    n_up = sp.MutableDenseNDimArray.zeros(dim)\n",
    "    for i in range(dim):\n",
    "        n_up[[i]] = - 1/alpha * beta[i]\n",
    "    return n_up\n",
    "\n",
    "# Index down\n",
    "def norm_down(alpha, beta, psi4, eta, coords):\n",
    "    dim = len(coords)\n",
    "    n_down = sp.MutableDenseNDimArray.zeros(dim)\n",
    "    for i in range(dim):\n",
    "        n_down[[i]] = - psi4 * 1/alpha * sum(eta[i, j] * beta[j] for j in range(dim))\n",
    "    return n_down"
   ]
  },
  {
   "cell_type": "markdown",
   "id": "5e0e280e-055c-449c-b449-9ebac17ad7cb",
   "metadata": {},
   "source": [
    "# Christoffel symbols"
   ]
  },
  {
   "cell_type": "markdown",
   "id": "598242b4-2775-46ef-8348-0f5fd506a2d8",
   "metadata": {},
   "source": [
    "In the conformally flat assumption $$\\gamma^{ij} = \\psi^{-4} \\eta^{ij}$$ the Christoffel symbols become\n",
    "$$\\begin{aligned}\n",
    "\\Gamma^i_{jk} &= \\frac{1}{2} \\gamma^{ia} (\\partial_j \\gamma_{ka} + \\partial_k \\gamma_{ja} - \\partial_a \\gamma_{jk}) \\\\[5pt]\n",
    "&= \\frac{1}{2} \\psi^{-4} \\eta^{ia} \\left[\\partial_j(\\psi^4\\eta_{nk}) + \\partial_k(\\psi^4\\eta_{ja}) - \\partial_a(\\psi^4\\eta_{jk})\\right] \\\\[5pt]\n",
    "&= \\frac{1}{2} \\eta^{ia} (\\partial_j \\eta_{ka} + \\partial_k \\eta_{ja} - \\partial_a \\eta_{jk}) + \\frac{1}{2} \\psi^{-4} \\eta^{ia} (\\eta_{ka} \\partial_j \\psi^4 + \\eta_{ja} \\partial_k \\psi^4 - \\eta_{jk} \\partial_a \\psi^4)\n",
    "\\end{aligned}$$"
   ]
  },
  {
   "cell_type": "code",
   "execution_count": null,
   "id": "5dc05e62-01cc-4aba-aa74-f4517617dbba",
   "metadata": {},
   "outputs": [],
   "source": [
    "'''\n",
    "Christoffel symbols\n",
    "'''\n",
    "\n",
    "def christoffel_symbols(psi4, eta, eta_inv, coords):\n",
    "    n = len(coords)\n",
    "    Gamma = sp.MutableDenseNDimArray.zeros(n, n, n)\n",
    "    \n",
    "    for i in range(n):\n",
    "        for j in range(n):\n",
    "            for k in range(n):\n",
    "                Gamma[i, j, k] = (0.5 * sum([eta_inv[i, a] * (sp.diff(eta[k, a], coords[j]) + \n",
    "                                                           sp.diff(eta[j, a], coords[k]) - \n",
    "                                                           sp.diff(eta[j, k], coords[a])) for a in range(n)]) +\n",
    "                                 0.5 * 1/psi4 * sum([eta_inv[i, a] * (eta[k, a] * sp.diff(psi4, coords[j]) + \n",
    "                                                                       eta[j, a] * sp.diff(psi4, coords[k]) - \n",
    "                                                                       eta[j, k] * sp.diff(psi4, coords[a])) for a in range(n)]))\n",
    "    return Gamma"
   ]
  },
  {
   "cell_type": "markdown",
   "id": "a53b5c71-cf51-4fee-9fb4-89edc9926704",
   "metadata": {},
   "source": [
    "# Vector s"
   ]
  },
  {
   "cell_type": "markdown",
   "id": "7fd87ecc-fc83-4081-8e02-d25983506b95",
   "metadata": {},
   "source": [
    "Vector $s$ given by $$s_i = \\lambda (1, -\\partial_{\\theta}h, \\partial_{\\phi}h)$$ such that $$s^i = \\gamma^{ij} s_j = \\psi^{-4} \\eta^{ij} s_j \\quad \\Leftrightarrow \\quad s^i = \\lambda \\psi^{-4} \\left(1, -\\frac{1}{r^2} \\partial_{\\theta}h, -\\frac{1}{r^2 \\sin^2{\\theta}} \\partial_{\\phi}h\\right)$$ and $$1 = s_i s^i = \\lambda^2 \\psi^{-4} \\left(1 + \\frac{1}{r^2} (\\partial_{\\theta}h)^2 + \\frac{1}{r^2 \\sin^2{\\theta}} (\\partial_{\\phi}h)^2\\right)$$"
   ]
  },
  {
   "cell_type": "code",
   "execution_count": null,
   "id": "e7c95c16-02fb-467c-8d0c-5982368c4ac8",
   "metadata": {},
   "outputs": [],
   "source": [
    "'''\n",
    "Spacelike outward-pointing vector s\n",
    "'''\n",
    "\n",
    "def s_norm(h, s, psi4, coords, eta_inv):\n",
    "    n = len(coords)\n",
    "    s_inv = sp.MutableDenseNDimArray.zeros(n)\n",
    "    for i in range(n):\n",
    "        s_inv[[i]] = (1/psi4) * sum([eta_inv[i, j] * s[j] for j in range(n)])\n",
    "    norm = 1 / (sum(s[i] * s_inv[i] for i in range(n)))\n",
    "    N = sp.sqrt(norm)\n",
    "    s_norm = N * s\n",
    "    s_inv_norm = N * s_inv\n",
    "    return s_inv_norm"
   ]
  },
  {
   "cell_type": "markdown",
   "id": "876343d9-91c0-4049-8af4-2f190d01ee0e",
   "metadata": {},
   "source": [
    "# Extrinsic curvature"
   ]
  },
  {
   "cell_type": "markdown",
   "id": "5b1d5921-cb27-459d-a5c7-bc66a1102cbf",
   "metadata": {},
   "source": [
    "Calculating from the formula $$K_{ij} = \\gamma_i^a \\gamma_j^b \\nabla_a n_b$$ where $$\\gamma_i^a = \\delta_i^a + n^a n_i$$"
   ]
  },
  {
   "cell_type": "code",
   "execution_count": null,
   "id": "15970506-c663-4d96-997d-f126ba1c9a41",
   "metadata": {},
   "outputs": [],
   "source": [
    "'''\n",
    "Extrinsic Curvature\n",
    "'''\n",
    "\n",
    "def extrinsic_curvature(n_up, n_down, christoffel, coords):\n",
    "    n = len(coords)\n",
    "    delta = eye(n)\n",
    "    K = sp.MutableDenseNDimArray.zeros(n, n)\n",
    "    for i in range(n):\n",
    "        for j in range(n):\n",
    "            K[i, j] = sum(sum((delta[i, a] + n_up[a]*n_down[i]) * (delta[j, b] + n_up[b]*n_down[j]) * (diff(n_down[b], coords[a]) -\n",
    "                      sum(christoffel[k, a, b]*n_down[k] for k in range(n))) for b in range(n)) for a in range(n))\n",
    "    return K"
   ]
  },
  {
   "cell_type": "markdown",
   "id": "75f540d8-848a-4b89-be25-48174ccbc524",
   "metadata": {},
   "source": [
    "# Expansion equation"
   ]
  },
  {
   "cell_type": "markdown",
   "id": "f45ac161-50e5-4f20-9a01-0ffc8ce0a619",
   "metadata": {},
   "source": [
    "The expansion equation is $$\\Theta = \\nabla_i s^i + s^i s^j K_{ij} - K = 0$$\n",
    "We assume maximal slicing condition such that $$K = 0$$"
   ]
  },
  {
   "cell_type": "code",
   "execution_count": null,
   "id": "e4f87bdd-ff17-4263-acc1-d14261418c6f",
   "metadata": {},
   "outputs": [],
   "source": [
    "'''\n",
    "Expansion function\n",
    "'''\n",
    "\n",
    "# First term\n",
    "def cov_derivative(christoffel, s, coords):\n",
    "    n = len(coords)\n",
    "    cov_dev = sum(diff(s[i], coords[i]) for i in range(n)) + sum(sum(christoffel[i, i, j] * s[j] for j in range(n)) for i in range(n))\n",
    "    return cov_dev\n",
    "\n",
    "# Second term\n",
    "def curv(ext_curv, s, coords):\n",
    "    n = len(coords)\n",
    "    curv = sum(sum(ext_curv[i, j] * s[i] * s[j] for j in range(n)) for i in range(n))\n",
    "    return curv\n",
    "\n",
    "# Full equation\n",
    "def expansion(christoffel, s, ext_curv, coords):\n",
    "    return (cov_derivative(christoffel, s, coords) + curv(ext_curv, s, coords))"
   ]
  },
  {
   "cell_type": "code",
   "execution_count": null,
   "id": "a52edcef-d5da-456b-bba6-dc63a4e3ba68",
   "metadata": {},
   "outputs": [],
   "source": [
    "#test = expansion(christoffel, s_inv_norm, cur, coords)\n",
    "#display(sp.simplify(test))"
   ]
  },
  {
   "cell_type": "markdown",
   "id": "8a983761-d139-40fa-8c41-1c8a1b517e15",
   "metadata": {},
   "source": [
    "***"
   ]
  },
  {
   "cell_type": "markdown",
   "id": "2b4f418f-37d9-473c-888e-5b0700a2da52",
   "metadata": {},
   "source": [
    "***"
   ]
  },
  {
   "cell_type": "markdown",
   "id": "cebad81a-a910-408a-ae12-80345080b037",
   "metadata": {},
   "source": [
    "***"
   ]
  },
  {
   "cell_type": "markdown",
   "id": "9f5f7c27-39db-4a83-bfae-1dc33b74b1e6",
   "metadata": {},
   "source": [
    "***"
   ]
  }
 ],
 "metadata": {
  "kernelspec": {
   "display_name": "Python 3 (ipykernel)",
   "language": "python",
   "name": "python3"
  },
  "language_info": {
   "codemirror_mode": {
    "name": "ipython",
    "version": 3
   },
   "file_extension": ".py",
   "mimetype": "text/x-python",
   "name": "python",
   "nbconvert_exporter": "python",
   "pygments_lexer": "ipython3",
   "version": "3.8.19"
  }
 },
 "nbformat": 4,
 "nbformat_minor": 5
}
